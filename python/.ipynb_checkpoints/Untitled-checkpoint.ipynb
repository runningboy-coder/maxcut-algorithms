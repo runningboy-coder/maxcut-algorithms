{
 "cells": [
  {
   "cell_type": "code",
   "execution_count": 23,
   "id": "eb5284af-0c78-4291-a05b-687fa0cdd183",
   "metadata": {},
   "outputs": [
    {
     "name": "stdout",
     "output_type": "stream",
     "text": [
      "J_matrixJ_Nt_13.csv\n",
      "J_matrixJ_Nt_13_0.csv\n",
      "J_matrixJ_Nt_13_loca_1_5.csv\n",
      "J_matrixJ_Nt_13_loca_2.csv\n",
      "J_matrixJ_Nt_3.csv\n",
      "J_matrixJ_Nt_31.csv\n",
      "J_matrixJ_Nt_31_0.csv\n",
      "J_matrixJ_Nt_31_loca_1_7.csv\n",
      "J_matrixJ_Nt_31_loca_2.csv\n",
      "J_matrixJ_Nt_7.csv\n",
      "J_matrixJ_Nt_7_0.csv\n",
      "J_matrixJ_Nt_7_loca_1_3.csv\n",
      "J_matrixJ_Nt_7_loca_2.csv\n"
     ]
    }
   ],
   "source": [
    "import os\n",
    "import numpy as np\n",
    "from utils import getdata\n",
    "from SB import SB\n",
    "from SA import SA\n",
    "from exhaustive import exhaustive\n",
    "\n",
    "def get_files_of_type(directory, extension):\n",
    "    # 初始化一个空列表来存储文件路径\n",
    "    files_list = []\n",
    "    # 使用os.walk()遍历目录\n",
    "    for root, dirs, files in os.walk(directory):\n",
    "        for file in files:\n",
    "            # 检查文件扩展名是否与指定的扩展名匹配\n",
    "            if file.endswith(extension):\n",
    "                # 将匹配的文件路径添加到列表中\n",
    "                files_list.append(file)\n",
    "    return files_list\n",
    "\n",
    "# 指定要搜索的目录和文件类型\n",
    "directory = r'H:\\研究生工作\\空天院\\J_matrix'\n",
    "file_type = '.csv'\n",
    "\n",
    "# 获取所有特定类型的文件\n",
    "all_files = get_files_of_type(directory, file_type)\n",
    "\n",
    "# 打印文件路径\n",
    "for file_path in all_files:\n",
    "    print(file_path)"
   ]
  },
  {
   "cell_type": "markdown",
   "id": "fcbf156f-593b-4212-b9d6-96ff23acc50e",
   "metadata": {},
   "source": [
    "# 无约束的情况下的数据\n",
    "## <=20的采用穷举、模拟退火、模拟分岔均计算一遍\n",
    "a)\n",
    "Nt = 7，对应J_Nt_7_0\n",
    "b)\n",
    "Nt = 13，对应J_Nt_13_0\n",
    "c)\n",
    "Nt = 31，对应J_Nt_31_0"
   ]
  },
  {
   "cell_type": "code",
   "execution_count": 27,
   "id": "d5814fd3-9d9f-46e7-97e3-c1ea8e20b760",
   "metadata": {},
   "outputs": [
    {
     "data": {
      "text/plain": [
       "array([[ 0.,  0.,  0., ...,  0.,  0., -6.],\n",
       "       [ 0.,  0.,  0., ...,  0.,  0.,  0.],\n",
       "       [ 0.,  0.,  0., ...,  0.,  0.,  0.],\n",
       "       ...,\n",
       "       [ 0.,  0.,  0., ...,  0.,  0.,  0.],\n",
       "       [ 0.,  0.,  0., ...,  0.,  0., -6.],\n",
       "       [-6.,  0.,  0., ...,  0., -6.,  0.]])"
      ]
     },
     "execution_count": 27,
     "metadata": {},
     "output_type": "execute_result"
    }
   ],
   "source": [
    "data = np.genfromtxt(directory + '\\\\' + all_files[0], delimiter=',')\n",
    "data"
   ]
  },
  {
   "cell_type": "code",
   "execution_count": null,
   "id": "b74c93c5-b606-48f7-bf67-7931f62948ab",
   "metadata": {},
   "outputs": [],
   "source": [
    "for file in all_files:\n",
    "    print(f\"dealing with {file}...\")\n",
    "    data = np.genfromtxt(directory + '\\\\' + file, delimiter=',')\n",
    "    \n",
    "    # SA\n",
    "    start = time.time()\n",
    "    _, spins = SA(data)\n",
    "    end = time.time()\n",
    "    print(f\"SA time:{end-start}\")\n",
    "    if spins[-1]==-1:\n",
    "        spins = -spins\n",
    "    np.savetxt(\"SA\" + file, spins, delimiter=\",\", fmt='%d')\n",
    "    print(f\"Save {\"SA\" + file} successfully.\")\n",
    "    \n",
    "    # SB\n",
    "    start = time.time()\n",
    "    _, spins = SB(data, c1=230, beta=0.18)\n",
    "    end = time.time()\n",
    "    print(f\"SB time:{end-start}\")\n",
    "    if spins[-1]==-1:\n",
    "        spins = -spins\n",
    "    np.savetxt(\"SB\" + file, spins, delimiter=\",\", fmt='%d')\n",
    "    print(f\"Save {\"SB\" + file} successfully.\")\n",
    "    \n",
    "    \n",
    "    # exhaustive\n",
    "    if len(data) <= 20:\n",
    "        start = time.time()\n",
    "        _, spins = exhaustive(data)\n",
    "        end = time.time()\n",
    "        print(f\"Exhaustive time:{end-start}\")\n",
    "        if spins[-1]==-1:\n",
    "            spins = -spins\n",
    "        np.savetxt(\"exhaustive\" + file, spins, delimiter=\",\", fmt='%d')\n",
    "        print(f\"Save {\"exhaustive\" + file} successfully.\")\n",
    "    \n",
    "    "
   ]
  },
  {
   "cell_type": "code",
   "execution_count": 18,
   "id": "c5ef5741-f6af-422c-93fd-0524bff88682",
   "metadata": {},
   "outputs": [
    {
     "data": {
      "text/plain": [
       "'J_matrixJ_Nt_7_0'"
      ]
     },
     "execution_count": 18,
     "metadata": {},
     "output_type": "execute_result"
    }
   ],
   "source": []
  },
  {
   "cell_type": "code",
   "execution_count": null,
   "id": "615d23c5-6542-4bcd-b5c2-cb1d6ef0923e",
   "metadata": {},
   "outputs": [],
   "source": []
  }
 ],
 "metadata": {
  "kernelspec": {
   "display_name": "Python 3 (ipykernel)",
   "language": "python",
   "name": "python3"
  },
  "language_info": {
   "codemirror_mode": {
    "name": "ipython",
    "version": 3
   },
   "file_extension": ".py",
   "mimetype": "text/x-python",
   "name": "python",
   "nbconvert_exporter": "python",
   "pygments_lexer": "ipython3",
   "version": "3.12.4"
  }
 },
 "nbformat": 4,
 "nbformat_minor": 5
}

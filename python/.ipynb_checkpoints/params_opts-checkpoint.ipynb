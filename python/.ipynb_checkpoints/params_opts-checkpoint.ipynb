{
 "cells": [
  {
   "cell_type": "code",
   "execution_count": 1,
   "id": "4e739e4f-4e68-4f55-9310-c2b4908fcec4",
   "metadata": {},
   "outputs": [],
   "source": [
    "import matplotlib.pyplot as plt\n",
    "import numpy as np\n",
    "from utils import getdata\n",
    "from SB import SB"
   ]
  },
  {
   "cell_type": "code",
   "execution_count": 2,
   "id": "39a64b6f-4cde-4e4b-b370-a6fbb008c3e4",
   "metadata": {},
   "outputs": [],
   "source": [
    "J, vertex = getdata(\"G05.csv\")"
   ]
  },
  {
   "cell_type": "markdown",
   "id": "f3f422e1-b7c1-428a-8316-ec9a469dc214",
   "metadata": {},
   "source": [
    "# 调试参数C1\n",
    "$c0 = {c1 \\over \\sqrt{N}}$"
   ]
  },
  {
   "cell_type": "code",
   "execution_count": 21,
   "id": "149530a6-baa7-4079-b3f9-74d4c4cee9ba",
   "metadata": {},
   "outputs": [],
   "source": [
    "c1 = np.arange(0.01,1,0.1)\n",
    "trial_num = 10"
   ]
  },
  {
   "cell_type": "code",
   "execution_count": 22,
   "id": "8995318d-d141-4ccc-bc8e-545aaa47f529",
   "metadata": {},
   "outputs": [
    {
     "data": {
      "text/plain": [
       "10"
      ]
     },
     "execution_count": 22,
     "metadata": {},
     "output_type": "execute_result"
    }
   ],
   "source": [
    "c1.shape[0]"
   ]
  },
  {
   "cell_type": "code",
   "execution_count": 24,
   "id": "0a4da840-71f2-46cc-97b0-1b3b945e2474",
   "metadata": {},
   "outputs": [],
   "source": [
    "cutSize_for_all_c1 = np.zeros((c1.shape[0], trial_num))\n",
    "for i,C1 in enumerate(c1):\n",
    "    result = np.zeros(trial_num)\n",
    "    \n",
    "    for tt in range(trial_num):\n",
    "        _, cutSize = SB(J, vertex, c1=C1)\n",
    "        result[tt] = cutSize\n",
    "\n",
    "    print(result)\n",
    "    cutSize_for_all_c1[i, 0:trial_num] = result\n",
    "    \n",
    "    \n",
    "    \n",
    "        "
   ]
  },
  {
   "cell_type": "code",
   "execution_count": 25,
   "id": "a06d5b63-e8a5-4a82-9e2a-47edc7b3f9d1",
   "metadata": {},
   "outputs": [
    {
     "data": {
      "text/plain": [
       "array([[3., 2., 0., 5., 3., 2., 4., 0., 5., 3.],\n",
       "       [2., 3., 2., 3., 3., 5., 3., 3., 5., 4.],\n",
       "       [3., 3., 2., 3., 3., 2., 4., 3., 2., 3.],\n",
       "       [3., 2., 4., 2., 4., 2., 0., 3., 3., 4.],\n",
       "       [3., 4., 4., 5., 5., 4., 3., 3., 3., 5.],\n",
       "       [2., 3., 4., 4., 0., 4., 4., 4., 4., 4.],\n",
       "       [5., 2., 4., 5., 5., 5., 3., 0., 2., 3.],\n",
       "       [3., 4., 3., 5., 2., 4., 5., 4., 3., 4.],\n",
       "       [3., 5., 3., 4., 4., 3., 5., 4., 3., 2.],\n",
       "       [3., 5., 0., 3., 2., 2., 0., 3., 2., 3.]])"
      ]
     },
     "execution_count": 25,
     "metadata": {},
     "output_type": "execute_result"
    }
   ],
   "source": [
    "cutSize_for_all_c1"
   ]
  },
  {
   "cell_type": "code",
   "execution_count": null,
   "id": "084ababa-e7b5-4f69-8eda-83834031dcbe",
   "metadata": {},
   "outputs": [],
   "source": []
  }
 ],
 "metadata": {
  "kernelspec": {
   "display_name": "Python 3 (ipykernel)",
   "language": "python",
   "name": "python3"
  },
  "language_info": {
   "codemirror_mode": {
    "name": "ipython",
    "version": 3
   },
   "file_extension": ".py",
   "mimetype": "text/x-python",
   "name": "python",
   "nbconvert_exporter": "python",
   "pygments_lexer": "ipython3",
   "version": "3.12.4"
  }
 },
 "nbformat": 4,
 "nbformat_minor": 5
}

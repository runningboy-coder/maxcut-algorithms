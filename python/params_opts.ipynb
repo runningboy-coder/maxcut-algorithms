{
 "cells": [
  {
   "cell_type": "code",
   "execution_count": 1,
   "id": "4e739e4f-4e68-4f55-9310-c2b4908fcec4",
   "metadata": {},
   "outputs": [],
   "source": [
    "import matplotlib.pyplot as plt\n",
    "import numpy as np\n",
    "from utils import getdata\n",
    "from SB import SB\n",
    "import time"
   ]
  },
  {
   "cell_type": "code",
   "execution_count": 2,
   "id": "7cd757b9-9548-4830-beea-bf0f69585d64",
   "metadata": {},
   "outputs": [],
   "source": [
    "def SB_test(trial_num_test=1000, a0_test=1, c1_test=200, stepNum_test=100, deltaT_test=0.01, algorithm_test=\"bSB\", beta_test=0.18):\n",
    "    average_time = 0\n",
    "    result = []\n",
    "    \n",
    "    for tt in range(trial_num):\n",
    "        start = time.time()\n",
    "        _, cutSize = SB(J, vertex, a0=a0_test, c1=c1_test, stepNum=stepNum_test, deltaT=deltaT_test, algorithm=algorithm_test, beta=beta_test)\n",
    "        duration = time.time() - start\n",
    "        average_time = ((tt)*average_time + duration) / (tt + 1)\n",
    "        result.append(cutSize)\n",
    "    return average_time, result"
   ]
  },
  {
   "cell_type": "code",
   "execution_count": 174,
   "id": "436853cb-2fc5-408a-9e18-ade68d9f2467",
   "metadata": {},
   "outputs": [],
   "source": [
    "def param_test(trial_num, param_type=None, param_data=np.array([])):\n",
    "    \"\"\"\n",
    "    测试函数，返回测试结果和时间\n",
    "    \"\"\"\n",
    "    cutSize_for_all_param = np.zeros((param_data.shape[0], trial_num))\n",
    "    average_time_for_all_param = np.zeros(param_data.shape[0])  #  防止参数会影响迭代时间\n",
    "    if param_type==None:\n",
    "        return SB_test(trial_num_test=trial_num)\n",
    "        \n",
    "    for i,param in enumerate(param_data):\n",
    "        result = np.zeros(trial_num)\n",
    "        average_time  = 0 # averge time of each trial\n",
    "    \n",
    "        for tt in range(trial_num):\n",
    "            \n",
    "            if param_type=='c1':\n",
    "                start = time.time()\n",
    "                _, cutSize = SB(J, vertex, c1=param)\n",
    "                duration = time.time() - start\n",
    "                average_time = ((tt)*average_time + duration) / (tt + 1)\n",
    "                result[tt] = cutSize \n",
    "                \n",
    "            else:\n",
    "                start = time.time()\n",
    "                _, cutSize = SB(J, vertex)\n",
    "                duration = time.time() - start\n",
    "                average_time = ((tt)*average_time + duration) / (tt + 1)\n",
    "                result[tt] = cutSize \n",
    "                \n",
    "            \n",
    "        average_time_for_all_param[i] = average_time\n",
    "        cutSize_for_all_param[i, 0:trial_num] = result\n",
    "\n",
    "    return average_time_for_all_param, cutSize_for_all_param"
   ]
  },
  {
   "cell_type": "code",
   "execution_count": 3,
   "id": "39a64b6f-4cde-4e4b-b370-a6fbb008c3e4",
   "metadata": {},
   "outputs": [],
   "source": [
    "J, vertex = getdata(\"G05.csv\")"
   ]
  },
  {
   "cell_type": "markdown",
   "id": "f3f422e1-b7c1-428a-8316-ec9a469dc214",
   "metadata": {},
   "source": [
    "# 调试参数C1\n",
    "$c0 = {c1 \\over \\sqrt{N}}$"
   ]
  },
  {
   "cell_type": "code",
   "execution_count": 92,
   "id": "149530a6-baa7-4079-b3f9-74d4c4cee9ba",
   "metadata": {},
   "outputs": [],
   "source": [
    "c1 = np.array(range(0, 1000, 10))\n",
    "delta_T = 0.01\n",
    "trial_num = 1000"
   ]
  },
  {
   "cell_type": "code",
   "execution_count": 94,
   "id": "8995318d-d141-4ccc-bc8e-545aaa47f529",
   "metadata": {},
   "outputs": [
    {
     "data": {
      "text/plain": [
       "100"
      ]
     },
     "execution_count": 94,
     "metadata": {},
     "output_type": "execute_result"
    }
   ],
   "source": [
    "c1.shape[0]"
   ]
  },
  {
   "cell_type": "code",
   "execution_count": 95,
   "id": "0a4da840-71f2-46cc-97b0-1b3b945e2474",
   "metadata": {},
   "outputs": [],
   "source": [
    "cutSize_for_all_c1 = np.zeros((c1.shape[0], trial_num))\n",
    "average_time_for_all_c1 = np.zeros(c1.shape[0])  #  防止参数会影响迭代时间\n",
    "for i,C1 in enumerate(c1):\n",
    "    result = np.zeros(trial_num)\n",
    "    average_time  = 0 # averge time of each trial\n",
    "    \n",
    "    for tt in range(trial_num):\n",
    "        start = time.time()\n",
    "        _, cutSize = SB(J, vertex, c1=C1, deltaT=0.01)\n",
    "        duration = time.time() - start\n",
    "        average_time = ((tt)*average_time + duration) / (tt + 1)\n",
    "        result[tt] = cutSize \n",
    "    average_time_for_all_c1[i] = average_time\n",
    "    cutSize_for_all_c1[i, 0:trial_num] = result\n",
    "    "
   ]
  },
  {
   "cell_type": "code",
   "execution_count": 96,
   "id": "54cba9ce-4ad4-428a-b1b1-52bd7c24eca8",
   "metadata": {},
   "outputs": [
    {
     "data": {
      "text/plain": [
       "array([[3., 2., 4., ..., 2., 3., 3.],\n",
       "       [5., 4., 5., ..., 5., 5., 5.],\n",
       "       [5., 5., 5., ..., 5., 5., 5.],\n",
       "       ...,\n",
       "       [5., 5., 5., ..., 5., 5., 4.],\n",
       "       [5., 4., 5., ..., 4., 5., 5.],\n",
       "       [5., 5., 5., ..., 5., 5., 5.]])"
      ]
     },
     "execution_count": 96,
     "metadata": {},
     "output_type": "execute_result"
    }
   ],
   "source": [
    "cutSize_for_all_c1"
   ]
  },
  {
   "cell_type": "code",
   "execution_count": 97,
   "id": "84e3943c-486f-4652-83fc-73c107b2c2b9",
   "metadata": {},
   "outputs": [
    {
     "data": {
      "text/plain": [
       "array([0.00213156, 0.00236609, 0.00379601, 0.00437182, 0.00452875,\n",
       "       0.0042293 , 0.00345793, 0.00389485, 0.00312322, 0.00219547,\n",
       "       0.00187547, 0.00187887, 0.00181125, 0.00189414, 0.00178462,\n",
       "       0.00187438, 0.00188019, 0.00187495, 0.00193907, 0.00199253,\n",
       "       0.00182425, 0.00187617, 0.00171875, 0.00198794, 0.00177707,\n",
       "       0.00188048, 0.001875  , 0.00187501, 0.00171875, 0.00194375,\n",
       "       0.00177888, 0.00188085, 0.0018762 , 0.00187456, 0.00180746,\n",
       "       0.00193551, 0.00171969, 0.00188134, 0.00186982, 0.00187453,\n",
       "       0.00181397, 0.00193516, 0.00187543, 0.00187616, 0.00171875,\n",
       "       0.00196922, 0.00198709, 0.0019873 , 0.00187649, 0.00187499,\n",
       "       0.0024294 , 0.00177912, 0.00266099, 0.00218887, 0.00203125,\n",
       "       0.00236101, 0.00203298, 0.00171833, 0.00187522, 0.00187498,\n",
       "       0.00179246, 0.00194014, 0.00187553, 0.00172324, 0.00187503,\n",
       "       0.00180506, 0.00193468, 0.00188083, 0.00171934, 0.00187551,\n",
       "       0.00187455, 0.00193233, 0.00180848, 0.0018799 , 0.00188628,\n",
       "       0.001875  , 0.00180276, 0.00177867, 0.00188064, 0.00187615,\n",
       "       0.00171876, 0.00198697, 0.00175668, 0.00187983, 0.00188298,\n",
       "       0.00199384, 0.00208695, 0.00189631, 0.00184656, 0.00192702,\n",
       "       0.00188957, 0.00200064, 0.00229662, 0.00188063, 0.00187499,\n",
       "       0.00187566, 0.00187459, 0.00207626, 0.0019645 , 0.00187552])"
      ]
     },
     "execution_count": 97,
     "metadata": {},
     "output_type": "execute_result"
    }
   ],
   "source": [
    "average_time_for_all_c1"
   ]
  },
  {
   "cell_type": "code",
   "execution_count": 100,
   "id": "a06d5b63-e8a5-4a82-9e2a-47edc7b3f9d1",
   "metadata": {},
   "outputs": [],
   "source": [
    "def evaluate_max_cut(result, target_value, tuo, method='TTS'):\n",
    "    RTS_result = [] #存储每一组数据的TTS结果\n",
    "    P_result = []\n",
    "    for array in result:\n",
    "        P = len(array[array==target_value]) / len(array)\n",
    "        P_result.append(P)\n",
    "        RTS = np.log(0.01) / np.log(1-P)\n",
    "        RTS_result.append(RTS)\n",
    "\n",
    "    RTS_result = np.array(RTS_result)\n",
    "    TTS_result = np.dot(RTS_result, tuo)\n",
    "\n",
    "    # TODO \n",
    "    # 用户可选使用哪种指标\n",
    "\n",
    "    return RTS_result, P_result\n",
    "    \n",
    "    "
   ]
  },
  {
   "cell_type": "code",
   "execution_count": 101,
   "id": "084ababa-e7b5-4f69-8eda-83834031dcbe",
   "metadata": {},
   "outputs": [],
   "source": [
    "_, P = evaluate_max_cut(cutSize_for_all_c1, target_value=5, tuo=average_time_for_all_c1)"
   ]
  },
  {
   "cell_type": "code",
   "execution_count": 116,
   "id": "e3a795ac-1750-4a2b-b6e4-1e9bdbece3b8",
   "metadata": {},
   "outputs": [
    {
     "data": {
      "text/plain": [
       "Text(0, 0.5, 'Average trial time')"
      ]
     },
     "execution_count": 116,
     "metadata": {},
     "output_type": "execute_result"
    },
    {
     "data": {
      "image/png": "[encoded data removed]",
      "text/plain": [
       "<Figure size 640x480 with 2 Axes>"
      ]
     },
     "metadata": {},
     "output_type": "display_data"
    }
   ],
   "source": [
    "fig, ax = plt.subplots()\n",
    "ax.plot(c1, P)\n",
    "ax.plot(c1, average_time_for_all_c1)\n",
    "ax.set_xlabel(\"c1 value\")\n",
    "ax.set_ylabel(\"Probility of optimal value\")\n",
    "ax2 = ax.twinx()\n",
    "ax2.set_ylabel('Average trial time')"
   ]
  },
  {
   "cell_type": "markdown",
   "id": "3f35921d-ea7a-4164-8993-91874eb12b53",
   "metadata": {},
   "source": [
    "# 结论\n",
    "在一定范围内，c1取值越大，则获得最优值的概率越高，达到一定程度之后，得到最优值的概率在一定范围内波动\n",
    "\n",
    "## 接下来缩小测试区间"
   ]
  },
  {
   "cell_type": "code",
   "execution_count": 134,
   "id": "e7adb899-31e1-4cb4-b5df-99b75186c4ad",
   "metadata": {},
   "outputs": [],
   "source": [
    "trial_time, result = test(trial_num=1000, param_type='c1', param_data=np.array(range(0,100, 1)))"
   ]
  },
  {
   "cell_type": "code",
   "execution_count": 135,
   "id": "540b11a2-7bf6-43d8-b909-de08410138e0",
   "metadata": {},
   "outputs": [],
   "source": [
    "_, P = evaluate_max_cut(result, target_value=5, tuo=trial_time)"
   ]
  },
  {
   "cell_type": "code",
   "execution_count": 139,
   "id": "4dfac38d-b977-4a46-942f-1bd36b4de3e4",
   "metadata": {},
   "outputs": [
    {
     "data": {
      "text/plain": [
       "Text(0, 0.5, 'Average trial time')"
      ]
     },
     "execution_count": 139,
     "metadata": {},
     "output_type": "execute_result"
    },
    {
     "data": {
      "image/png": "[encoded data removed]",
      "text/plain": [
       "<Figure size 640x480 with 2 Axes>"
      ]
     },
     "metadata": {},
     "output_type": "display_data"
    }
   ],
   "source": [
    "fig, ax = plt.subplots()\n",
    "ax.plot(range(0,100, 1), P)\n",
    "ax.plot(range(0,100, 1), trial_time)\n",
    "ax.set_xlabel(\"c1 value\")\n",
    "ax.set_ylabel(\"Probility of optimal value\")\n",
    "ax2 = ax.twinx()\n",
    "ax2.set_ylabel('Average trial time')"
   ]
  },
  {
   "cell_type": "markdown",
   "id": "e2fd331b-eee0-4cbe-b462-bb817f650bcf",
   "metadata": {},
   "source": [
    "## 接下来探索初始化对于结果的影响\n",
    "1. 随机初始化下x,y\n",
    "2. x设为0， y随机初始化\n",
    "\n",
    "随机初始化分为两种：\n",
    "\n",
    "[1] 随机初始化为1，-1\n",
    "\n",
    "[2] 随机初始化为（-1，1）范围内的实数"
   ]
  },
  {
   "cell_type": "code",
   "execution_count": 147,
   "id": "46be617c-7e2f-4799-b6d8-7bc230e4f360",
   "metadata": {},
   "outputs": [
    {
     "data": {
      "text/plain": [
       "array([-0.46703159, -0.50602756, -0.87423766,  0.02812865,  0.36535124])"
      ]
     },
     "execution_count": 147,
     "metadata": {},
     "output_type": "execute_result"
    }
   ],
   "source": [
    "np.random.rand(5)*2 - 1"
   ]
  },
  {
   "cell_type": "markdown",
   "id": "a83111f7-a5e6-4931-9311-8c5b10aababc",
   "metadata": {},
   "source": [
    "# 1. x设为0 y随机初始化为(-1,1)范围内的实数"
   ]
  },
  {
   "cell_type": "code",
   "execution_count": 175,
   "id": "4d168012-1aa8-4105-a1b4-a6d84c37f179",
   "metadata": {},
   "outputs": [],
   "source": [
    "trial_time, cutSize = param_test(trial_num=1000)\n",
    "result = np.array([cutSize])"
   ]
  },
  {
   "cell_type": "code",
   "execution_count": 176,
   "id": "0fe5a35e-2bd8-4790-aa94-471f41b43634",
   "metadata": {},
   "outputs": [
    {
     "name": "stdout",
     "output_type": "stream",
     "text": [
      "[5. 5. 4. 5. 5. 5. 5. 5. 5. 5. 5. 5. 5. 4. 5. 4. 5. 5. 5. 5. 5. 5. 5. 5.\n",
      " 5. 4. 5. 5. 5. 5. 5. 5. 5. 5. 5. 5. 5. 5. 5. 4. 5. 5. 5. 4. 4. 5. 5. 5.\n",
      " 5. 4. 5. 5. 5. 5. 5. 5. 5. 5. 5. 5. 5. 5. 5. 5. 5. 5. 5. 5. 5. 5. 5. 5.\n",
      " 5. 5. 5. 5. 5. 5. 5. 5. 5. 4. 5. 5. 5. 5. 5. 5. 5. 4. 5. 5. 5. 5. 5. 5.\n",
      " 5. 5. 5. 5.]\n"
     ]
    }
   ],
   "source": [
    "for array in result:\n",
    "    print(array)"
   ]
  },
  {
   "cell_type": "code",
   "execution_count": 177,
   "id": "7e60e43d-dbf3-4d0f-ae16-f54533462341",
   "metadata": {},
   "outputs": [],
   "source": [
    "_, P = evaluate_max_cut(result, target_value=5, tuo=trial_time)"
   ]
  },
  {
   "cell_type": "code",
   "execution_count": 178,
   "id": "4e21804a-1045-461a-914e-816d36eeff0b",
   "metadata": {},
   "outputs": [
    {
     "data": {
      "text/plain": [
       "[0.9]"
      ]
     },
     "execution_count": 178,
     "metadata": {},
     "output_type": "execute_result"
    }
   ],
   "source": [
    "P"
   ]
  },
  {
   "cell_type": "markdown",
   "id": "4b3ba952-acfe-4d73-8a2f-24c0336d56fd",
   "metadata": {},
   "source": [
    "# 2. x, y随机初始化为(-1,1)范围内的实数"
   ]
  },
  {
   "cell_type": "code",
   "execution_count": 179,
   "id": "3d35c927-6b52-4206-934a-288795f9368b",
   "metadata": {},
   "outputs": [
    {
     "data": {
      "text/plain": [
       "[0.92]"
      ]
     },
     "execution_count": 179,
     "metadata": {},
     "output_type": "execute_result"
    }
   ],
   "source": [
    "trial_time, cutSize = param_test(trial_num=1000)\n",
    "result = np.array([cutSize])\n",
    "_, P = evaluate_max_cut(result, target_value=5, tuo=trial_time)\n",
    "P"
   ]
  },
  {
   "cell_type": "markdown",
   "id": "5a3f7d83-f297-4df4-8a4f-5f4eff293b21",
   "metadata": {},
   "source": [
    "# 3. x, y随机初始化为1 -1"
   ]
  },
  {
   "cell_type": "code",
   "execution_count": 180,
   "id": "86298ef5-954e-4896-88ac-6c547b5fa942",
   "metadata": {},
   "outputs": [
    {
     "data": {
      "text/plain": [
       "[0.88]"
      ]
     },
     "execution_count": 180,
     "metadata": {},
     "output_type": "execute_result"
    }
   ],
   "source": [
    "trial_time, cutSize = param_test(trial_num=1000)\n",
    "result = np.array([cutSize])\n",
    "_, P = evaluate_max_cut(result, target_value=5, tuo=trial_time)\n",
    "P"
   ]
  },
  {
   "cell_type": "markdown",
   "id": "c0795b20-f2d6-4445-a608-987dad94361e",
   "metadata": {},
   "source": [
    "# 4. x=0, y随机初始化为1 -1"
   ]
  },
  {
   "cell_type": "code",
   "execution_count": 181,
   "id": "e365dc9d-ea13-4df8-ba67-dec6e4f9bd1c",
   "metadata": {},
   "outputs": [
    {
     "data": {
      "text/plain": [
       "[0.9]"
      ]
     },
     "execution_count": 181,
     "metadata": {},
     "output_type": "execute_result"
    }
   ],
   "source": [
    "trial_time, cutSize = param_test(trial_num=1000)\n",
    "result = np.array([cutSize])\n",
    "_, P = evaluate_max_cut(result, target_value=5, tuo=trial_time)\n",
    "P"
   ]
  },
  {
   "cell_type": "markdown",
   "id": "ce98c8ed-1711-4dd1-9530-98a3e6561113",
   "metadata": {},
   "source": [
    "# 5. 随机初始化x,y, 不设置范围"
   ]
  },
  {
   "cell_type": "code",
   "execution_count": 182,
   "id": "281c512b-e708-462e-b8ce-886bcb1112b3",
   "metadata": {},
   "outputs": [
    {
     "data": {
      "text/plain": [
       "[0.92]"
      ]
     },
     "execution_count": 182,
     "metadata": {},
     "output_type": "execute_result"
    }
   ],
   "source": [
    "trial_time, cutSize = param_test(trial_num=1000)\n",
    "result = np.array([cutSize])\n",
    "_, P = evaluate_max_cut(result, target_value=5, tuo=trial_time)\n",
    "P"
   ]
  },
  {
   "cell_type": "markdown",
   "id": "a39437e7-dde1-42e2-926c-fe4253a95469",
   "metadata": {},
   "source": [
    "# 6. x=0， 随机初始化y, 不设置范围"
   ]
  },
  {
   "cell_type": "code",
   "execution_count": 183,
   "id": "4d2d54f8-95e7-4c76-bbb3-aa9f1ad943c2",
   "metadata": {},
   "outputs": [
    {
     "data": {
      "text/plain": [
       "[0.94]"
      ]
     },
     "execution_count": 183,
     "metadata": {},
     "output_type": "execute_result"
    }
   ],
   "source": [
    "trial_time, cutSize = param_test(trial_num=1000)\n",
    "result = np.array([cutSize])\n",
    "_, P = evaluate_max_cut(result, target_value=5, tuo=trial_time)\n",
    "P"
   ]
  },
  {
   "cell_type": "markdown",
   "id": "b1d9ed0c-e631-4800-ad21-6f3c9eb1a2cc",
   "metadata": {},
   "source": [
    "# 接下来调试beta的参数"
   ]
  },
  {
   "cell_type": "code",
   "execution_count": 190,
   "id": "8d924ab5-879b-46f9-a7ff-01243757bce4",
   "metadata": {},
   "outputs": [],
   "source": [
    "beta = np.array(range(0,50,1))/10"
   ]
  },
  {
   "cell_type": "code",
   "execution_count": 191,
   "id": "525a674e-47dc-402b-aaf1-82f1b226a79f",
   "metadata": {},
   "outputs": [
    {
     "data": {
      "text/plain": [
       "array([0. , 0.1, 0.2, 0.3, 0.4, 0.5, 0.6, 0.7, 0.8, 0.9, 1. , 1.1, 1.2,\n",
       "       1.3, 1.4, 1.5, 1.6, 1.7, 1.8, 1.9, 2. , 2.1, 2.2, 2.3, 2.4, 2.5,\n",
       "       2.6, 2.7, 2.8, 2.9, 3. , 3.1, 3.2, 3.3, 3.4, 3.5, 3.6, 3.7, 3.8,\n",
       "       3.9, 4. , 4.1, 4.2, 4.3, 4.4, 4.5, 4.6, 4.7, 4.8, 4.9])"
      ]
     },
     "execution_count": 191,
     "metadata": {},
     "output_type": "execute_result"
    }
   ],
   "source": [
    "beta"
   ]
  },
  {
   "cell_type": "code",
   "execution_count": 192,
   "id": "1fbe509e-030f-4bff-ae45-558b30a04057",
   "metadata": {},
   "outputs": [],
   "source": [
    "trial_time = []\n",
    "cutSize = []\n",
    "for b in beta:\n",
    "    t, c = SB_test(trial_num_test=1000, a0_test=1, c1_test=200, stepNum_test=100, deltaT_test=0.01, algorithm_test=\"bSB\", beta_test=b)\n",
    "    trial_time.append(t)\n",
    "    cutSize.append(c)\n",
    "    "
   ]
  },
  {
   "cell_type": "code",
   "execution_count": 194,
   "id": "323e6ef0-33f5-4d58-850d-0468018f582c",
   "metadata": {},
   "outputs": [],
   "source": [
    "result = np.array(cutSize)\n",
    "_, P = evaluate_max_cut(result, target_value=5, tuo=trial_time)\n"
   ]
  },
  {
   "cell_type": "code",
   "execution_count": 195,
   "id": "07959157-0d82-4fe7-ad75-0820d27f541b",
   "metadata": {},
   "outputs": [
    {
     "data": {
      "text/plain": [
       "Text(0, 0.5, 'Average trial time')"
      ]
     },
     "execution_count": 195,
     "metadata": {},
     "output_type": "execute_result"
    },
    {
     "data": {
      "image/png": "[encoded data removed]",
      "text/plain": [
       "<Figure size 640x480 with 2 Axes>"
      ]
     },
     "metadata": {},
     "output_type": "display_data"
    }
   ],
   "source": [
    "fig, ax = plt.subplots()\n",
    "ax.plot(beta, P)\n",
    "ax.plot(beta, trial_time)\n",
    "ax.set_xlabel(\"beta value\")\n",
    "ax.set_ylabel(\"Probility of optimal value\")\n",
    "ax2 = ax.twinx()\n",
    "ax2.set_ylabel('Average trial time')"
   ]
  },
  {
   "cell_type": "markdown",
   "id": "ec21226a-7fdb-4f6f-8845-f7d8671c5474",
   "metadata": {},
   "source": [
    "# 结果显示beta=0.1时有最优值\n",
    "接下来缩小范围"
   ]
  },
  {
   "cell_type": "code",
   "execution_count": 199,
   "id": "ebd83e86-b13e-486b-9649-9585b646b231",
   "metadata": {},
   "outputs": [
    {
     "data": {
      "text/plain": [
       "array([0.  , 0.01, 0.02, 0.03, 0.04, 0.05, 0.06, 0.07, 0.08, 0.09, 0.1 ,\n",
       "       0.11, 0.12, 0.13, 0.14, 0.15, 0.16, 0.17, 0.18, 0.19, 0.2 , 0.21,\n",
       "       0.22, 0.23, 0.24, 0.25, 0.26, 0.27, 0.28, 0.29, 0.3 , 0.31, 0.32,\n",
       "       0.33, 0.34, 0.35, 0.36, 0.37, 0.38, 0.39, 0.4 , 0.41, 0.42, 0.43,\n",
       "       0.44, 0.45, 0.46, 0.47, 0.48, 0.49])"
      ]
     },
     "execution_count": 199,
     "metadata": {},
     "output_type": "execute_result"
    }
   ],
   "source": [
    "beta = np.array(range(0,50,1))/100\n",
    "beta"
   ]
  },
  {
   "cell_type": "code",
   "execution_count": 200,
   "id": "ee1e4302-54cf-4674-b7fb-e201bc3d0143",
   "metadata": {},
   "outputs": [
    {
     "name": "stdout",
     "output_type": "stream",
     "text": [
      "[0.91, 0.96, 0.93, 0.96, 0.91, 0.96, 0.96, 0.94, 0.98, 0.94, 0.97, 0.98, 0.99, 0.98, 0.96, 0.98, 0.98, 0.98, 1.0, 0.98, 0.94, 0.94, 0.91, 0.83, 0.92, 0.84, 0.87, 0.92, 0.83, 0.78, 0.89, 0.74, 0.76, 0.75, 0.85, 0.77, 0.65, 0.75, 0.73, 0.75, 0.59, 0.69, 0.79, 0.62, 0.72, 0.66, 0.64, 0.61, 0.62, 0.62]\n"
     ]
    },
    {
     "name": "stderr",
     "output_type": "stream",
     "text": [
      "C:\\Users\\lenovo\\AppData\\Local\\Temp\\ipykernel_34988\\4147664702.py:7: RuntimeWarning: divide by zero encountered in log\n",
      "  RTS = np.log(0.01) / np.log(1-P)\n"
     ]
    },
    {
     "data": {
      "text/plain": [
       "Text(0, 0.5, 'Average trial time')"
      ]
     },
     "execution_count": 200,
     "metadata": {},
     "output_type": "execute_result"
    },
    {
     "data": {
      "image/png": "[encoded data removed]",
      "text/plain": [
       "<Figure size 640x480 with 2 Axes>"
      ]
     },
     "metadata": {},
     "output_type": "display_data"
    }
   ],
   "source": [
    "trial_time = []\n",
    "cutSize = []\n",
    "for b in beta:\n",
    "    t, c = SB_test(trial_num_test=1000, a0_test=1, c1_test=200, stepNum_test=100, deltaT_test=0.01, algorithm_test=\"bSB\", beta_test=b)\n",
    "    trial_time.append(t)\n",
    "    cutSize.append(c)\n",
    "    \n",
    "result = np.array(cutSize)\n",
    "_, P = evaluate_max_cut(result, target_value=5, tuo=trial_time)\n",
    "print(P)\n",
    "fig, ax = plt.subplots()\n",
    "ax.plot(beta, P)\n",
    "ax.plot(beta, trial_time)\n",
    "ax.set_xlabel(\"beta value\")\n",
    "ax.set_ylabel(\"Probility of optimal value\")\n",
    "ax2 = ax.twinx()\n",
    "ax2.set_ylabel('Average trial time')"
   ]
  },
  {
   "cell_type": "markdown",
   "id": "48ea5867-4c56-453e-a044-56471c2b2915",
   "metadata": {},
   "source": [
    "# 结果表明在0.15左右，效果最优， 0.18测试集效果最好"
   ]
  },
  {
   "cell_type": "code",
   "execution_count": 213,
   "id": "63de0679-66a1-4248-b7c9-8947b0a70cf1",
   "metadata": {},
   "outputs": [],
   "source": [
    "J, vertex = getdata(\"G1.csv\")"
   ]
  },
  {
   "cell_type": "code",
   "execution_count": 218,
   "id": "b05d678c-4564-4492-b689-c2ea8ca85fdf",
   "metadata": {},
   "outputs": [],
   "source": [
    "cutSize = []\n",
    "for i in range(20):\n",
    "    _, c = SB(J, vertex, c1=300, beta=0.18)\n",
    "    cutSize.append(c)"
   ]
  },
  {
   "cell_type": "code",
   "execution_count": 219,
   "id": "7dbb8ea1-9726-43ce-b279-40cc873354dd",
   "metadata": {},
   "outputs": [
    {
     "data": {
      "text/plain": [
       "[11079.0,\n",
       " 7579.0,\n",
       " 10913.0,\n",
       " 9539.0,\n",
       " 11281.0,\n",
       " 8719.0,\n",
       " 10364.0,\n",
       " 11225.0,\n",
       " 9128.0,\n",
       " 11221.0,\n",
       " 11173.0,\n",
       " 10790.0,\n",
       " 11224.0,\n",
       " 5692.0,\n",
       " 10996.0,\n",
       " 10849.0,\n",
       " 11087.0,\n",
       " 10904.0,\n",
       " 11202.0,\n",
       " 10423.0]"
      ]
     },
     "execution_count": 219,
     "metadata": {},
     "output_type": "execute_result"
    }
   ],
   "source": [
    "cutSize"
   ]
  },
  {
   "cell_type": "code",
   "execution_count": 22,
   "id": "bd7e8118-a3c2-47d0-a59d-45f8c882afc5",
   "metadata": {},
   "outputs": [],
   "source": [
    "J, vertex = getdata(\"G1.csv\")\n",
    "cutSize = []\n",
    "for i in range(20):\n",
    "    _, c = SB(J, vertex, c1=300, beta=0.18, algorithm='dSB')\n",
    "    cutSize.append(c)"
   ]
  },
  {
   "cell_type": "code",
   "execution_count": 23,
   "id": "474e7ea9-d845-446d-a989-4f4a3ee5d32e",
   "metadata": {},
   "outputs": [
    {
     "data": {
      "text/plain": [
       "[11217.0,\n",
       " 11194.0,\n",
       " 10889.0,\n",
       " 11237.0,\n",
       " 10638.0,\n",
       " 11118.0,\n",
       " 11151.0,\n",
       " 10048.0,\n",
       " 11137.0,\n",
       " 11204.0,\n",
       " 11185.0,\n",
       " 10791.0,\n",
       " 10735.0,\n",
       " 11181.0,\n",
       " 11162.0,\n",
       " 10996.0,\n",
       " 11166.0,\n",
       " 11196.0,\n",
       " 11091.0,\n",
       " 11025.0]"
      ]
     },
     "execution_count": 23,
     "metadata": {},
     "output_type": "execute_result"
    }
   ],
   "source": [
    "cutSize"
   ]
  },
  {
   "cell_type": "code",
   "execution_count": null,
   "id": "61ac127e-754e-44c2-ac21-dd35c9d2b869",
   "metadata": {},
   "outputs": [],
   "source": []
  }
 ],
 "metadata": {
  "kernelspec": {
   "display_name": "Python 3 (ipykernel)",
   "language": "python",
   "name": "python3"
  },
  "language_info": {
   "codemirror_mode": {
    "name": "ipython",
    "version": 3
   },
   "file_extension": ".py",
   "mimetype": "text/x-python",
   "name": "python",
   "nbconvert_exporter": "python",
   "pygments_lexer": "ipython3",
   "version": "3.12.4"
  }
 },
 "nbformat": 4,
 "nbformat_minor": 5
}

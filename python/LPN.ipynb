{
 "cells": [
  {
   "cell_type": "code",
   "execution_count": 1,
   "id": "a7dcf24b-2db9-4355-bf14-36d2086cc7e8",
   "metadata": {},
   "outputs": [
    {
     "name": "stderr",
     "output_type": "stream",
     "text": [
      "D:\\Anaconda\\envs\\pytorch\\lib\\site-packages\\tqdm\\auto.py:21: TqdmWarning: IProgress not found. Please update jupyter and ipywidgets. See https://ipywidgets.readthedocs.io/en/stable/user_install.html\n",
      "  from .autonotebook import tqdm as notebook_tqdm\n"
     ]
    }
   ],
   "source": [
    "import os\n",
    "import numpy as np\n",
    "from SB import SB\n",
    "from SA import SA\n",
    "from SB_gpu import SB_gpu\n",
    "from exhaustive import exhaustive\n",
    "import time\n",
    "from utils import ising_energy"
   ]
  },
  {
   "cell_type": "code",
   "execution_count": 2,
   "id": "1668bb1e-ac26-422f-8b93-87039fad193a",
   "metadata": {},
   "outputs": [
    {
     "name": "stdout",
     "output_type": "stream",
     "text": [
      "Ising_Orig_Xsolv向量维度: (2010,)\n",
      "Ising_Link_Jmatrix矩阵维度: (2010, 2010)\n"
     ]
    }
   ],
   "source": [
    "import numpy as np\n",
    "\n",
    "def read_ising_data():\n",
    "    with open(r'H:\\研究生工作\\LPN\\LPNToIsing\\EXp1\\IsingExample.txt', 'r') as file:\n",
    "        lines = file.readlines()\n",
    "\n",
    "    # 找到向量和矩阵的起始行\n",
    "    vector_start = lines.index('IsingSample  --   Ising_Orig_Xsolv:\\n') + 1\n",
    "    matrix_start = lines.index('IsingSample  --   Ising_Link_Jmatrix:\\n') + 1\n",
    "\n",
    "    # 读取向量\n",
    "    vector = []\n",
    "    for line in lines[vector_start:matrix_start - 1]:\n",
    "        values = line.split()\n",
    "        for value in values:\n",
    "            vector.append(int(value))\n",
    "\n",
    "    # 读取矩阵\n",
    "    matrix = []\n",
    "    for line in lines[matrix_start:]:\n",
    "        if line.strip():\n",
    "            row = [int(x) for x in line.split()]\n",
    "            matrix.append(row)\n",
    "\n",
    "    return np.array(vector), np.array(matrix)\n",
    "\n",
    "vector, matrix = read_ising_data()\n",
    "print(\"Ising_Orig_Xsolv向量维度:\", vector.shape)\n",
    "print(\"Ising_Link_Jmatrix矩阵维度:\", matrix.shape)"
   ]
  },
  {
   "cell_type": "code",
   "execution_count": null,
   "id": "04de621c-f564-45d2-8fd0-11a9d1329a7b",
   "metadata": {},
   "outputs": [],
   "source": [
    "energy, spins = SB_gpu(matrix)\n",
    "energy"
   ]
  },
  {
   "cell_type": "code",
   "execution_count": 15,
   "id": "e7817ce3-c9b9-4e11-8981-2320db3b72b8",
   "metadata": {},
   "outputs": [],
   "source": [
    "energy2 = ising_energy(vector,matrix)"
   ]
  },
  {
   "cell_type": "code",
   "execution_count": 16,
   "id": "2074245a-ce15-4073-8bcf-16d98d47ac1f",
   "metadata": {},
   "outputs": [
    {
     "data": {
      "text/plain": [
       "-12078.0"
      ]
     },
     "execution_count": 16,
     "metadata": {},
     "output_type": "execute_result"
    }
   ],
   "source": [
    "energy2"
   ]
  },
  {
   "cell_type": "code",
   "execution_count": 9,
   "id": "251d2a38-1380-472d-80dd-b697e5b319ed",
   "metadata": {},
   "outputs": [
    {
     "data": {
      "text/plain": [
       "array([-4959.], dtype=float32)"
      ]
     },
     "execution_count": 9,
     "metadata": {},
     "output_type": "execute_result"
    }
   ],
   "source": [
    "spins"
   ]
  },
  {
   "cell_type": "code",
   "execution_count": null,
   "id": "34f08708-528a-4249-8381-c841e866428e",
   "metadata": {},
   "outputs": [],
   "source": []
  }
 ],
 "metadata": {
  "kernelspec": {
   "display_name": "pytorch",
   "language": "python",
   "name": "pytorch"
  },
  "language_info": {
   "codemirror_mode": {
    "name": "ipython",
    "version": 3
   },
   "file_extension": ".py",
   "mimetype": "text/x-python",
   "name": "python",
   "nbconvert_exporter": "python",
   "pygments_lexer": "ipython3",
   "version": "3.8.20"
  }
 },
 "nbformat": 4,
 "nbformat_minor": 5
}
